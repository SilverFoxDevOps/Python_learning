{
 "cells": [
  {
   "cell_type": "markdown",
   "id": "f88babf6-0179-41d8-aa4c-e12a789f692e",
   "metadata": {},
   "source": [
    "TOPIC: Python Basics Variable"
   ]
  },
  {
   "cell_type": "raw",
   "id": "05c62113-ec8a-4fcd-a0e3-1aa6a4dac420",
   "metadata": {},
   "source": [
    "Declare two variables, `x` and `y`, and assign them integer values.\n",
    "Swap the values of these variables without using any temporary\n",
    "variable."
   ]
  },
  {
   "cell_type": "code",
   "execution_count": 19,
   "id": "2584983b-7558-480e-9485-ead6a32c228b",
   "metadata": {},
   "outputs": [
    {
     "name": "stdin",
     "output_type": "stream",
     "text": [
      " 67\n",
      " 75\n"
     ]
    },
    {
     "name": "stdout",
     "output_type": "stream",
     "text": [
      "75 67\n"
     ]
    }
   ],
   "source": [
    "x = int(input())\n",
    "y = int(input())\n",
    "x,y = y , x\n",
    "print (x,y)"
   ]
  },
  {
   "cell_type": "raw",
   "id": "60135885-9657-445f-996a-7161234d19c4",
   "metadata": {},
   "source": [
    "Create a program that calculates the area of a rectangle. Take the\n",
    "length and width as inputs from the user and store them in variables.\n",
    "Calculate and display the area."
   ]
  },
  {
   "cell_type": "code",
   "execution_count": 11,
   "id": "2e52529e-9f85-4d1b-8ea5-78a106040c1c",
   "metadata": {},
   "outputs": [
    {
     "name": "stdin",
     "output_type": "stream",
     "text": [
      " 7\n",
      " 5\n"
     ]
    },
    {
     "name": "stdout",
     "output_type": "stream",
     "text": [
      "Display the area of rectangle:  35.0\n"
     ]
    }
   ],
   "source": [
    "w = float(input())\n",
    "l = float(input())\n",
    "print (\"Display the area of rectangle: \",w*l)"
   ]
  },
  {
   "cell_type": "raw",
   "id": "d08419b9-ddaf-4b76-bdb1-cb77257e2f10",
   "metadata": {},
   "source": [
    "Write a Python program that converts temperature from Celsius to\n",
    "Fahrenheit. Take the temperature in Celsius as input, store it in a\n",
    "variable, convert it to Fahrenheit, and display the result."
   ]
  },
  {
   "cell_type": "code",
   "execution_count": 21,
   "id": "1a84087d-6960-4dd5-9f72-498a24435c50",
   "metadata": {},
   "outputs": [
    {
     "name": "stdin",
     "output_type": "stream",
     "text": [
      "Temperature in Celsius:  3\n"
     ]
    },
    {
     "name": "stdout",
     "output_type": "stream",
     "text": [
      "Temperature in Fahrenheit:  37.4\n"
     ]
    }
   ],
   "source": [
    "C = float(input(\"Temperature in Celsius: \"))\n",
    "print (\"Temperature in Fahrenheit: \",(C*1.8)+32)"
   ]
  },
  {
   "cell_type": "markdown",
   "id": "330928de-4567-4c1c-ac67-ddbd77ce4eb6",
   "metadata": {},
   "source": [
    "TOPIC: String Based"
   ]
  },
  {
   "cell_type": "raw",
   "id": "e2783e17-27d9-4876-876e-482fe345dfec",
   "metadata": {},
   "source": [
    "Write a Python program that takes a string as input and prints the\n",
    "length of the string."
   ]
  },
  {
   "cell_type": "code",
   "execution_count": 24,
   "id": "d5b7ef08-0e85-4994-bef4-12d06e8fc40b",
   "metadata": {},
   "outputs": [
    {
     "name": "stdin",
     "output_type": "stream",
     "text": [
      " rakesh\n"
     ]
    },
    {
     "name": "stdout",
     "output_type": "stream",
     "text": [
      "Length of the string:  6\n"
     ]
    }
   ],
   "source": [
    "x = str(input())\n",
    "print (\"Length of the string: \",len(x))"
   ]
  },
  {
   "cell_type": "raw",
   "id": "210eebb0-aa92-491e-8493-d451b0b98849",
   "metadata": {},
   "source": [
    "Create a program that takes a sentence from the user and counts the\n",
    "number of vowels (a, e, i, o, u) in the string."
   ]
  },
  {
   "cell_type": "code",
   "execution_count": 3,
   "id": "daa2589e-db75-461a-9810-1e906223fb66",
   "metadata": {},
   "outputs": [
    {
     "name": "stdin",
     "output_type": "stream",
     "text": [
      " Rakesh\n"
     ]
    },
    {
     "name": "stdout",
     "output_type": "stream",
     "text": [
      "6\n"
     ]
    }
   ],
   "source": [
    "sentence = str(input())\n",
    "vowels = 0\n",
    "for i in sentence:\n",
    "    if (i ==\"a\", i==\"e\", i==\"i\", i==\"o\", i==\"u\"):\n",
    "        vowels=vowels+1\n",
    "print(vowels)"
   ]
  },
  {
   "cell_type": "raw",
   "id": "3f3f4abf-6cb1-422c-9125-b3703f13f27d",
   "metadata": {},
   "source": [
    "Given a string, reverse the order of characters using string slicing and\n",
    "print the reversed string."
   ]
  },
  {
   "cell_type": "code",
   "execution_count": 6,
   "id": "7b2b8507-4206-426c-92f9-3ddfa40c4323",
   "metadata": {},
   "outputs": [
    {
     "name": "stdin",
     "output_type": "stream",
     "text": [
      " Rakesh\n"
     ]
    },
    {
     "name": "stdout",
     "output_type": "stream",
     "text": [
      "hsekaR\n"
     ]
    }
   ],
   "source": [
    "var = str(input())\n",
    "rev = var[::-1]\n",
    "print (rev)"
   ]
  },
  {
   "cell_type": "raw",
   "id": "621a5338-9aec-4ea5-9c72-6e5c7d9f78d0",
   "metadata": {},
   "source": [
    "Write a program that takes a string as input and checks if it is a\n",
    "palindrome (reads the same forwards and backwards)."
   ]
  },
  {
   "cell_type": "code",
   "execution_count": 14,
   "id": "42bdb116-542b-47e4-ba66-b57c996c4083",
   "metadata": {},
   "outputs": [
    {
     "name": "stdin",
     "output_type": "stream",
     "text": [
      " oyo\n"
     ]
    },
    {
     "name": "stdout",
     "output_type": "stream",
     "text": [
      "oyo Palindrome\n"
     ]
    }
   ],
   "source": [
    "s = str(input())\n",
    "r = s[::-1]\n",
    "if s == r:\n",
    "    print(r, \"Palindrome\")\n",
    "else:\n",
    "    print (r, \"not Palindrome\")"
   ]
  },
  {
   "cell_type": "raw",
   "id": "321ea10e-6a5b-4545-974e-5cfde540f1f5",
   "metadata": {},
   "source": [
    "Create a program that takes a string as input and removes all the\n",
    "spaces from it. Print the modified string without spaces."
   ]
  },
  {
   "cell_type": "code",
   "execution_count": 9,
   "id": "52fbc03f-79d5-402c-becc-1d507ed6a260",
   "metadata": {},
   "outputs": [
    {
     "name": "stdin",
     "output_type": "stream",
     "text": [
      " Rakesh Kumar Routray\n"
     ]
    },
    {
     "name": "stdout",
     "output_type": "stream",
     "text": [
      "RakeshKumarRoutray\n"
     ]
    }
   ],
   "source": [
    "b = str(input())\n",
    "remove = b.replace(\" \", \"\")\n",
    "print (remove)"
   ]
  },
  {
   "cell_type": "code",
   "execution_count": null,
   "id": "fc831ea2-7329-475f-a58c-d752dfcd5195",
   "metadata": {},
   "outputs": [],
   "source": []
  }
 ],
 "metadata": {
  "kernelspec": {
   "display_name": "Python 3 (ipykernel)",
   "language": "python",
   "name": "python3"
  },
  "language_info": {
   "codemirror_mode": {
    "name": "ipython",
    "version": 3
   },
   "file_extension": ".py",
   "mimetype": "text/x-python",
   "name": "python",
   "nbconvert_exporter": "python",
   "pygments_lexer": "ipython3",
   "version": "3.10.8"
  }
 },
 "nbformat": 4,
 "nbformat_minor": 5
}
